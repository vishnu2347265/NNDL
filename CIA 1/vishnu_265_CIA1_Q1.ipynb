{
  "nbformat": 4,
  "nbformat_minor": 0,
  "metadata": {
    "colab": {
      "provenance": []
    },
    "kernelspec": {
      "name": "python3",
      "display_name": "Python 3"
    },
    "language_info": {
      "name": "python"
    }
  },
  "cells": [
    {
      "cell_type": "markdown",
      "source": [
        "##• Lab Task: Attempt to implement a Single Layer Perceptron in Google Colab to classify the output of an XOR gate. Perform the following steps:"
      ],
      "metadata": {
        "id": "vcORpXs33jBl"
      }
    },
    {
      "cell_type": "markdown",
      "source": [
        "##• Create the XOR gate's truth table dataset."
      ],
      "metadata": {
        "id": "lP4dvLCL3pge"
      }
    },
    {
      "cell_type": "code",
      "execution_count": 1,
      "metadata": {
        "colab": {
          "base_uri": "https://localhost:8080/"
        },
        "id": "Ng5lVPkq3Zff",
        "outputId": "f5df484c-4e8c-48e2-f6d2-0e556b9afa22"
      },
      "outputs": [
        {
          "output_type": "stream",
          "name": "stdout",
          "text": [
            "Inputs:\n",
            " [[0 0]\n",
            " [0 1]\n",
            " [1 0]\n",
            " [1 1]]\n",
            "Outputs:\n",
            " [0 1 1 0]\n"
          ]
        }
      ],
      "source": [
        "import numpy as np\n",
        "\n",
        "# XOR Truth Table\n",
        "\n",
        "X = np.array([[0, 0], [0, 1], [1, 0], [1, 1]])\n",
        "y = np.array([0, 1, 1, 0])\n",
        "\n",
        "# Printing the XOR truth table\n",
        "print(\"Inputs:\\n\", X)\n",
        "print(\"Outputs:\\n\", y)\n"
      ]
    },
    {
      "cell_type": "markdown",
      "source": [
        "##• Implement the perceptron model and train it using the XOR dataset using MCP (McCullochPitts) Neuron."
      ],
      "metadata": {
        "id": "0ebpkRmx4EPE"
      }
    },
    {
      "cell_type": "code",
      "source": [
        "# Step Function (Threshold Activation)\n",
        "def step_function(x):\n",
        "    return np.where(x >= 0, 1, 0)\n",
        "\n",
        "# Perceptron Model\n",
        "class Perceptron:\n",
        "    def __init__(self, input_size, learning_rate=0.1, epochs=10):\n",
        "        self.weights = np.zeros(input_size + 1)  # +1 for bias\n",
        "        self.learning_rate = learning_rate\n",
        "        self.epochs = epochs\n",
        "\n",
        "    def predict(self, x):\n",
        "        weighted_sum = np.dot(x, self.weights[1:]) + self.weights[0]  # w.x + bias\n",
        "        return step_function(weighted_sum)\n",
        "\n",
        "    def train(self, X, y):\n",
        "        for _ in range(self.epochs):\n",
        "            for i in range(len(y)):\n",
        "                prediction = self.predict(X[i])\n",
        "                error = y[i] - prediction\n",
        "                # Update rule: w = w + η * error * x\n",
        "                self.weights[1:] += self.learning_rate * error * X[i]\n",
        "                self.weights[0] += self.learning_rate * error  # Bias update\n",
        "\n",
        "# Initialize and Train the Perceptron\n",
        "input_size = X.shape[1]\n",
        "perceptron = Perceptron(input_size)\n",
        "perceptron.train(X, y)\n",
        "\n",
        "# Test the Perceptron on XOR\n",
        "for i in range(len(y)):\n",
        "    print(f\"Input: {X[i]}, Predicted: {perceptron.predict(X[i])}, Actual: {y[i]}\")\n"
      ],
      "metadata": {
        "colab": {
          "base_uri": "https://localhost:8080/"
        },
        "id": "vaKgq3VL4Gf3",
        "outputId": "59c45825-7d83-49c1-cb90-3b15c5e13181"
      },
      "execution_count": 2,
      "outputs": [
        {
          "output_type": "stream",
          "name": "stdout",
          "text": [
            "Input: [0 0], Predicted: 1, Actual: 0\n",
            "Input: [0 1], Predicted: 1, Actual: 1\n",
            "Input: [1 0], Predicted: 0, Actual: 1\n",
            "Input: [1 1], Predicted: 0, Actual: 0\n"
          ]
        }
      ]
    },
    {
      "cell_type": "markdown",
      "source": [
        "##Observe and discuss the perceptron's performance in this scenario.\n",
        "\n",
        "- **Input: [0, 0]** → **Predicted: 1**, but the actual XOR output is 0 (incorrect).\n",
        "- **Input: [0, 1]** → **Predicted: 1**, which matches the actual XOR output of 1 (correct).\n",
        "- **Input: [1, 0]** → **Predicted: 0**, but the actual XOR output is 1 (incorrect).\n",
        "- **Input: [1, 1]** → **Predicted: 0**, which matches the actual XOR output of 0 (correct).\n",
        "\n",
        "### Interpretation:\n",
        "\n",
        "The perceptron correctly predicts two of the outputs but fails on the other two because XOR is **not linearly separable**. A single-layer perceptron can't handle this non-linearity, leading to incorrect predictions on some inputs. This shows the limitation of a simple perceptron for solving complex problems like XOR, which requires a non-linear decision boundary. To overcome this, a **multi-layer perceptron** (with hidden layers) is needed."
      ],
      "metadata": {
        "id": "Y78Rl2dw4x6Y"
      }
    },
    {
      "cell_type": "markdown",
      "source": [
        "##• Implement XOR using Multi-Layer Perceptron."
      ],
      "metadata": {
        "id": "E05ZvxJa45Sj"
      }
    },
    {
      "cell_type": "code",
      "source": [
        "# Import necessary libraries\n",
        "from keras.models import Sequential\n",
        "from keras.layers import Dense\n",
        "import numpy as np\n",
        "\n",
        "# XOR Truth Table\n",
        "X = np.array([[0, 0], [0, 1], [1, 0], [1, 1]])  # Input data\n",
        "y = np.array([0, 1, 1, 0])  # XOR output\n",
        "\n",
        "# Multi-Layer Perceptron Model\n",
        "mlp_model = Sequential()\n",
        "\n",
        "# Input layer and hidden layer with 2 neurons and 'sigmoid' activation\n",
        "mlp_model.add(Dense(units=2, input_shape=(2,), activation='sigmoid'))\n",
        "\n",
        "# Output layer with 1 neuron and 'sigmoid' activation\n",
        "mlp_model.add(Dense(units=1, activation='sigmoid'))\n",
        "\n",
        "# Compile the model\n",
        "mlp_model.compile(loss='binary_crossentropy', optimizer='adam', metrics=['accuracy'])\n",
        "\n",
        "# Train the model\n",
        "history = mlp_model.fit(X, y, epochs=5000, verbose=0)  # Increase the epochs for better convergence\n",
        "\n",
        "# Test the MLP on XOR\n",
        "predictions = mlp_model.predict(X)\n",
        "predictions = np.round(predictions).astype(int)\n",
        "\n",
        "# Display Results\n",
        "for i in range(len(y)):\n",
        "    print(f\"Input: {X[i]}, Predicted: {predictions[i][0]}, Actual: {y[i]}\")\n",
        "\n",
        "# Plot the loss curve for better visualization of training progress\n",
        "import matplotlib.pyplot as plt\n",
        "\n",
        "plt.plot(history.history['loss'])\n",
        "plt.title('Model Loss')\n",
        "plt.ylabel('Loss')\n",
        "plt.xlabel('Epoch')\n",
        "plt.show()\n"
      ],
      "metadata": {
        "colab": {
          "base_uri": "https://localhost:8080/",
          "height": 559
        },
        "id": "cc5IKBp45Kjb",
        "outputId": "02a94292-8f30-4b76-cd0d-ca5c0cfc3827"
      },
      "execution_count": 5,
      "outputs": [
        {
          "output_type": "stream",
          "name": "stdout",
          "text": [
            "\u001b[1m1/1\u001b[0m \u001b[32m━━━━━━━━━━━━━━━━━━━━\u001b[0m\u001b[37m\u001b[0m \u001b[1m0s\u001b[0m 44ms/step\n",
            "Input: [0 0], Predicted: 0, Actual: 0\n",
            "Input: [0 1], Predicted: 1, Actual: 1\n",
            "Input: [1 0], Predicted: 1, Actual: 1\n",
            "Input: [1 1], Predicted: 0, Actual: 0\n"
          ]
        },
        {
          "output_type": "display_data",
          "data": {
            "text/plain": [
              "<Figure size 640x480 with 1 Axes>"
            ],
            "image/png": "[encoded data removed]"
          },
          "metadata": {}
        }
      ]
    },
    {
      "cell_type": "markdown",
      "source": [
        "##Interpretation\n"
      ],
      "metadata": {
        "id": "ssrPjNyw6Fkn"
      }
    },
    {
      "cell_type": "markdown",
      "source": [
        "We have trained the Multi-Layer Perceptron (MLP), and the output matches the expected XOR truth table:\n",
        "\n",
        "- **Input [0, 0]** → **Predicted: 0**, **Actual: 0** (Correct)\n",
        "- **Input [0, 1]** → **Predicted: 1**, **Actual: 1** (Correct)\n",
        "- **Input [1, 0]** → **Predicted: 1**, **Actual: 1** (Correct)\n",
        "- **Input [1, 1]** → **Predicted: 0**, **Actual: 0** (Correct)\n",
        "\n",
        "### Key Points:\n",
        "\n",
        "- The MLP successfully classifies all XOR inputs correctly.\n",
        "- This demonstrates that the multi-layer architecture is capable of solving problems that a single-layer perceptron cannot handle.\n",
        "\n",
        "**MLP's Success**:\n",
        "   - The Multi-Layer Perceptron (MLP) overcomes the limitation of linear separability by introducing **hidden layers**.\n",
        "   - In the XOR example, the hidden layer enables the MLP to create non-linear decision boundaries, which allows it to correctly classify the XOR gate's outputs.\n",
        "   - The MLP can map complex relationships between inputs and outputs, solving problems like XOR, which require non-linear mappings.\n",
        "\n",
        "#### **Training and Convergence**:\n",
        "   - During training, the loss gradually decreases, showing that the model is learning to classify the data correctly.\n",
        "   - The smooth decrease in the loss curve, as visualized by the plot, indicates that the MLP is converging towards an optimal solution.\n",
        "   - By running the training for 5000 epochs, the MLP learned the correct weights and biases, which allowed it to achieve 100% accuracy on the XOR problem.\n"
      ],
      "metadata": {
        "id": "TTwX7-rS7xG0"
      }
    }
  ]
}