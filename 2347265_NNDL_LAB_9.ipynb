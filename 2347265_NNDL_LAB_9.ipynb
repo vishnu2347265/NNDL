{
  "nbformat": 4,
  "nbformat_minor": 0,
  "metadata": {
    "colab": {
      "provenance": []
    },
    "kernelspec": {
      "name": "python3",
      "display_name": "Python 3"
    },
    "language_info": {
      "name": "python"
    }
  },
  "cells": [
    {
      "cell_type": "markdown",
      "source": [
        "##**Install Required Libraries**"
      ],
      "metadata": {
        "id": "GF_RrhpRmGAv"
      }
    },
    {
      "cell_type": "code",
      "execution_count": null,
      "metadata": {
        "colab": {
          "base_uri": "https://localhost:8080/"
        },
        "id": "R1v7U-BDlXTJ",
        "outputId": "01cc5042-0122-4642-8b19-e96718a7c053"
      },
      "outputs": [
        {
          "output_type": "stream",
          "name": "stdout",
          "text": [
            "Requirement already satisfied: scikit-learn in /usr/local/lib/python3.10/dist-packages (1.5.2)\n",
            "Requirement already satisfied: matplotlib in /usr/local/lib/python3.10/dist-packages (3.8.0)\n",
            "Requirement already satisfied: numpy in /usr/local/lib/python3.10/dist-packages (1.26.4)\n",
            "Requirement already satisfied: scipy>=1.6.0 in /usr/local/lib/python3.10/dist-packages (from scikit-learn) (1.13.1)\n",
            "Requirement already satisfied: joblib>=1.2.0 in /usr/local/lib/python3.10/dist-packages (from scikit-learn) (1.4.2)\n",
            "Requirement already satisfied: threadpoolctl>=3.1.0 in /usr/local/lib/python3.10/dist-packages (from scikit-learn) (3.5.0)\n",
            "Requirement already satisfied: contourpy>=1.0.1 in /usr/local/lib/python3.10/dist-packages (from matplotlib) (1.3.1)\n",
            "Requirement already satisfied: cycler>=0.10 in /usr/local/lib/python3.10/dist-packages (from matplotlib) (0.12.1)\n",
            "Requirement already satisfied: fonttools>=4.22.0 in /usr/local/lib/python3.10/dist-packages (from matplotlib) (4.55.0)\n",
            "Requirement already satisfied: kiwisolver>=1.0.1 in /usr/local/lib/python3.10/dist-packages (from matplotlib) (1.4.7)\n",
            "Requirement already satisfied: packaging>=20.0 in /usr/local/lib/python3.10/dist-packages (from matplotlib) (24.2)\n",
            "Requirement already satisfied: pillow>=6.2.0 in /usr/local/lib/python3.10/dist-packages (from matplotlib) (11.0.0)\n",
            "Requirement already satisfied: pyparsing>=2.3.1 in /usr/local/lib/python3.10/dist-packages (from matplotlib) (3.2.0)\n",
            "Requirement already satisfied: python-dateutil>=2.7 in /usr/local/lib/python3.10/dist-packages (from matplotlib) (2.8.2)\n",
            "Requirement already satisfied: six>=1.5 in /usr/local/lib/python3.10/dist-packages (from python-dateutil>=2.7->matplotlib) (1.16.0)\n"
          ]
        }
      ],
      "source": [
        "!pip install scikit-learn matplotlib numpy"
      ]
    },
    {
      "cell_type": "markdown",
      "source": [
        "##**Import Libraries**"
      ],
      "metadata": {
        "id": "qr4O0YydmOo7"
      }
    },
    {
      "cell_type": "code",
      "source": [
        "import numpy as np\n",
        "import pandas as pd\n",
        "from sklearn.model_selection import train_test_split\n",
        "from sklearn.preprocessing import MinMaxScaler\n",
        "from sklearn.neural_network import BernoulliRBM\n",
        "from sklearn.linear_model import LogisticRegression\n",
        "from sklearn.metrics import accuracy_score, f1_score, classification_report\n",
        "import matplotlib.pyplot as plt\n"
      ],
      "metadata": {
        "id": "SAkBwfglmMNf"
      },
      "execution_count": null,
      "outputs": []
    },
    {
      "cell_type": "markdown",
      "source": [
        "##**Load and Preprocess the Dataset**"
      ],
      "metadata": {
        "id": "Fby_jjmwmUWG"
      }
    },
    {
      "cell_type": "code",
      "source": [
        "from sklearn.datasets import fetch_openml\n",
        "\n",
        "# Load MNIST dataset\n",
        "print(\"Loading dataset...\")\n",
        "mnist = fetch_openml('mnist_784', version=1)\n",
        "X, y = mnist.data, mnist.target.astype(int)\n",
        "\n",
        "# Normalize pixel values to the range [0, 1]\n",
        "scaler = MinMaxScaler()\n",
        "X = scaler.fit_transform(X)\n",
        "\n",
        "# Split into training and testing sets (80% training, 20% testing)\n",
        "X_train, X_test, y_train, y_test = train_test_split(X, y, test_size=0.2, random_state=42)\n",
        "\n",
        "print(f\"Training data shape: {X_train.shape}\")\n",
        "print(f\"Testing data shape: {X_test.shape}\")\n"
      ],
      "metadata": {
        "colab": {
          "base_uri": "https://localhost:8080/"
        },
        "id": "xBNCqgbumRmf",
        "outputId": "86d4a198-15ab-486d-9e0f-2bd97846821d"
      },
      "execution_count": null,
      "outputs": [
        {
          "output_type": "stream",
          "name": "stdout",
          "text": [
            "Loading dataset...\n",
            "Training data shape: (56000, 784)\n",
            "Testing data shape: (14000, 784)\n"
          ]
        }
      ]
    },
    {
      "cell_type": "markdown",
      "source": [
        "Use a dataset like MNIST or any other classification dataset. Normalize pixel values between 0 and 1, and split the data."
      ],
      "metadata": {
        "id": "Q-rs3Kl6msLl"
      }
    },
    {
      "cell_type": "markdown",
      "source": [
        "##**Define and Train the RBM**"
      ],
      "metadata": {
        "id": "_HLJTJtfmuZ5"
      }
    },
    {
      "cell_type": "code",
      "source": [
        "# Define RBM\n",
        "n_hidden_units = 128  # Number of hidden units\n",
        "rbm = BernoulliRBM(n_components=n_hidden_units, learning_rate=0.01, n_iter=10, random_state=42)\n",
        "\n",
        "# Train RBM\n",
        "print(\"Training RBM...\")\n",
        "rbm.fit(X_train)\n",
        "\n",
        "print(\"RBM training completed.\")\n"
      ],
      "metadata": {
        "colab": {
          "base_uri": "https://localhost:8080/"
        },
        "id": "6gbfuTCwmlk4",
        "outputId": "0661969c-8188-428c-ed6c-e7c293078d71"
      },
      "execution_count": null,
      "outputs": [
        {
          "output_type": "stream",
          "name": "stdout",
          "text": [
            "Training RBM...\n",
            "RBM training completed.\n"
          ]
        }
      ]
    },
    {
      "cell_type": "markdown",
      "source": [
        "Set the number of visible and hidden units. Train the RBM on the training data.\n"
      ],
      "metadata": {
        "id": "PsbUINMXm6kY"
      }
    },
    {
      "cell_type": "markdown",
      "source": [
        "##**Transform Data Using RBM**"
      ],
      "metadata": {
        "id": "RFZe1tx1m81g"
      }
    },
    {
      "cell_type": "code",
      "source": [
        "# Transform the training and testing data using the RBM\n",
        "print(\"Transforming data using RBM...\")\n",
        "X_train_rbm = rbm.transform(X_train)\n",
        "X_test_rbm = rbm.transform(X_test)\n",
        "\n",
        "print(f\"RBM-transformed training data shape: {X_train_rbm.shape}\")\n",
        "print(f\"RBM-transformed testing data shape: {X_test_rbm.shape}\")\n"
      ],
      "metadata": {
        "colab": {
          "base_uri": "https://localhost:8080/"
        },
        "id": "v7g4btXom_tf",
        "outputId": "224ff42e-75f4-405d-971d-7dfcf9d9f1eb"
      },
      "execution_count": null,
      "outputs": [
        {
          "output_type": "stream",
          "name": "stdout",
          "text": [
            "Transforming data using RBM...\n",
            "RBM-transformed training data shape: (56000, 128)\n",
            "RBM-transformed testing data shape: (14000, 128)\n"
          ]
        }
      ]
    },
    {
      "cell_type": "markdown",
      "source": [
        "##**Visualize Learned Weights**"
      ],
      "metadata": {
        "id": "-UehEmQjnKQB"
      }
    },
    {
      "cell_type": "code",
      "source": [
        "# Visualize the weights\n",
        "print(\"Visualizing RBM weights...\")\n",
        "weights = rbm.components_\n",
        "\n",
        "plt.figure(figsize=(10, 10))\n",
        "for i in range(16):  # Display 16 hidden unit weights as images\n",
        "    plt.subplot(4, 4, i + 1)\n",
        "    plt.imshow(weights[i].reshape(28, 28), cmap='gray')\n",
        "    plt.axis('off')\n",
        "plt.suptitle(\"Visualized RBM Weights\", fontsize=16)\n",
        "plt.show()\n"
      ],
      "metadata": {
        "colab": {
          "base_uri": "https://localhost:8080/",
          "height": 924
        },
        "id": "EVml2zK_nBSK",
        "outputId": "7decfaac-c35f-4c92-86b1-5438bdec630f"
      },
      "execution_count": null,
      "outputs": [
        {
          "output_type": "stream",
          "name": "stdout",
          "text": [
            "Visualizing RBM weights...\n"
          ]
        },
        {
          "output_type": "display_data",
          "data": {
            "text/plain": [
              "<Figure size 1000x1000 with 16 Axes>"
            ],
            "image/png": "[encoded data removed]"
          },
          "metadata": {}
        }
      ]
    },
    {
      "cell_type": "markdown",
      "source": [
        "##**Train a Classifier Using RBM-Extracted Features**"
      ],
      "metadata": {
        "id": "lFGQv80sneDG"
      }
    },
    {
      "cell_type": "code",
      "source": [
        "# Train logistic regression on RBM-extracted features\n",
        "print(\"Training classifier on RBM-extracted features...\")\n",
        "classifier = LogisticRegression(max_iter=500, random_state=42)\n",
        "classifier.fit(X_train_rbm, y_train)\n",
        "\n",
        "# Test the classifier\n",
        "y_pred = classifier.predict(X_test_rbm)\n",
        "\n",
        "# Compute accuracy and F1-score\n",
        "accuracy = accuracy_score(y_test, y_pred)\n",
        "f1 = f1_score(y_test, y_pred, average='weighted')\n",
        "\n",
        "print(f\"Accuracy (RBM features): {accuracy:.4f}\")\n",
        "print(f\"F1-Score (RBM features): {f1:.4f}\")\n"
      ],
      "metadata": {
        "colab": {
          "base_uri": "https://localhost:8080/"
        },
        "id": "s7B9Vu1LnRsr",
        "outputId": "914698b9-9b48-465d-e1ab-837a91f41c42"
      },
      "execution_count": null,
      "outputs": [
        {
          "output_type": "stream",
          "name": "stdout",
          "text": [
            "Training classifier on RBM-extracted features...\n",
            "Accuracy (RBM features): 0.9433\n",
            "F1-Score (RBM features): 0.9432\n"
          ]
        }
      ]
    },
    {
      "cell_type": "markdown",
      "source": [
        "##**Train Classifier on Raw Pixel Data**"
      ],
      "metadata": {
        "id": "q8mVUjuknieZ"
      }
    },
    {
      "cell_type": "code",
      "source": [
        "# Train classifier on raw pixel data\n",
        "print(\"Training classifier on raw pixel data...\")\n",
        "classifier_raw = LogisticRegression(max_iter=500, random_state=42)\n",
        "classifier_raw.fit(X_train, y_train)\n",
        "\n",
        "# Test the classifier\n",
        "y_pred_raw = classifier_raw.predict(X_test)\n",
        "\n",
        "# Compute accuracy and F1-score\n",
        "accuracy_raw = accuracy_score(y_test, y_pred_raw)\n",
        "f1_raw = f1_score(y_test, y_pred_raw, average='weighted')\n",
        "\n",
        "print(f\"Accuracy (Raw pixels): {accuracy_raw:.4f}\")\n",
        "print(f\"F1-Score (Raw pixels): {f1_raw:.4f}\")\n"
      ],
      "metadata": {
        "colab": {
          "base_uri": "https://localhost:8080/"
        },
        "id": "wijn5maKnTdR",
        "outputId": "9f05f488-6307-472c-ebfb-7d4ff8515b54"
      },
      "execution_count": null,
      "outputs": [
        {
          "output_type": "stream",
          "name": "stdout",
          "text": [
            "Training classifier on raw pixel data...\n",
            "Accuracy (Raw pixels): 0.9203\n",
            "F1-Score (Raw pixels): 0.9201\n"
          ]
        }
      ]
    },
    {
      "cell_type": "markdown",
      "source": [
        "##**Analysis and Comparison**"
      ],
      "metadata": {
        "id": "VoVFf9CLnl47"
      }
    },
    {
      "cell_type": "code",
      "source": [
        "print(\"\\nPerformance Comparison:\")\n",
        "print(f\"Classifier on Raw Pixels -> Accuracy: {accuracy_raw:.4f}, F1-Score: {f1_raw:.4f}\")\n",
        "print(f\"Classifier on RBM Features -> Accuracy: {accuracy:.4f}, F1-Score: {f1:.4f}\")\n",
        "\n",
        "# Display classification report for RBM features\n",
        "print(\"\\nClassification Report (RBM Features):\")\n",
        "print(classification_report(y_test, y_pred))\n"
      ],
      "metadata": {
        "colab": {
          "base_uri": "https://localhost:8080/"
        },
        "id": "R42Pbdy5nVDb",
        "outputId": "6b38b8bb-cab0-4e12-f5c5-924fee0f7cf3"
      },
      "execution_count": null,
      "outputs": [
        {
          "output_type": "stream",
          "name": "stdout",
          "text": [
            "\n",
            "Performance Comparison:\n",
            "Classifier on Raw Pixels -> Accuracy: 0.9203, F1-Score: 0.9201\n",
            "Classifier on RBM Features -> Accuracy: 0.9433, F1-Score: 0.9432\n",
            "\n",
            "Classification Report (RBM Features):\n",
            "              precision    recall  f1-score   support\n",
            "\n",
            "           0       0.97      0.98      0.97      1343\n",
            "           1       0.97      0.98      0.98      1600\n",
            "           2       0.93      0.93      0.93      1380\n",
            "           3       0.93      0.92      0.93      1433\n",
            "           4       0.94      0.94      0.94      1295\n",
            "           5       0.93      0.92      0.93      1273\n",
            "           6       0.96      0.97      0.97      1396\n",
            "           7       0.96      0.94      0.95      1503\n",
            "           8       0.93      0.92      0.92      1357\n",
            "           9       0.91      0.92      0.91      1420\n",
            "\n",
            "    accuracy                           0.94     14000\n",
            "   macro avg       0.94      0.94      0.94     14000\n",
            "weighted avg       0.94      0.94      0.94     14000\n",
            "\n"
          ]
        }
      ]
    },
    {
      "cell_type": "markdown",
      "source": [
        "The **RBM features** significantly improve performance, achieving **94.33% accuracy** compared to **92.03% with raw pixels**, showing RBM effectively extracts meaningful patterns. The high precision, recall, and F1-scores across all classes confirm balanced and improved classification. This demonstrates the power of RBM in reducing noise and enhancing feature quality for better model accuracy."
      ],
      "metadata": {
        "id": "HDlNwq3ztwZs"
      }
    }
  ]
}