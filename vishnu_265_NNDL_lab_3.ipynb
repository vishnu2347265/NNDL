{
  "nbformat": 4,
  "nbformat_minor": 0,
  "metadata": {
    "colab": {
      "provenance": []
    },
    "kernelspec": {
      "name": "python3",
      "display_name": "Python 3"
    },
    "language_info": {
      "name": "python"
    }
  },
  "cells": [
    {
      "cell_type": "markdown",
      "source": [
        "##**1. Data Preprocessing**"
      ],
      "metadata": {
        "id": "NG0lTLsj829f"
      }
    },
    {
      "cell_type": "code",
      "execution_count": 1,
      "metadata": {
        "colab": {
          "base_uri": "https://localhost:8080/"
        },
        "id": "ZrtkT0YZ8jCM",
        "outputId": "86081070-d1a0-4316-a3fc-d192c7de6ac0"
      },
      "outputs": [
        {
          "output_type": "stream",
          "name": "stdout",
          "text": [
            "Downloading data from https://www.cs.toronto.edu/~kriz/cifar-10-python.tar.gz\n",
            "\u001b[1m170498071/170498071\u001b[0m \u001b[32m━━━━━━━━━━━━━━━━━━━━\u001b[0m\u001b[37m\u001b[0m \u001b[1m3s\u001b[0m 0us/step\n",
            "Training data shape: (50000, 32, 32, 3)\n",
            "Test data shape: (10000, 32, 32, 3)\n"
          ]
        }
      ],
      "source": [
        "# Import libraries\n",
        "import numpy as np\n",
        "import tensorflow as tf\n",
        "from tensorflow.keras.datasets import cifar10\n",
        "from tensorflow.keras.utils import to_categorical\n",
        "\n",
        "# Load the CIFAR-10 dataset\n",
        "(X_train, y_train), (X_test, y_test) = cifar10.load_data()\n",
        "\n",
        "# Normalize the pixel values to be between 0 and 1\n",
        "X_train = X_train.astype('float32') / 255.0\n",
        "X_test = X_test.astype('float32') / 255.0\n",
        "\n",
        "# Convert class labels to one-hot encoding\n",
        "y_train = to_categorical(y_train, 10)\n",
        "y_test = to_categorical(y_test, 10)\n",
        "\n",
        "# Summary of the dataset\n",
        "print(f'Training data shape: {X_train.shape}')\n",
        "print(f'Test data shape: {X_test.shape}')\n"
      ]
    },
    {
      "cell_type": "markdown",
      "source": [
        "Explanation:\n",
        "Loading CIFAR-10 dataset: CIFAR-10 contains 60,000 32x32 images across 10 classes.\n",
        "\n",
        "Normalization: Pixel values are divided by 255 to scale them between 0 and 1, which speeds up convergence and helps the neural network learn faster.\n",
        "\n",
        "One-hot encoding: The labels (0-9) are converted into a one-hot encoded format since this is a multi-class classification problem."
      ],
      "metadata": {
        "id": "o4pB0epr8_-u"
      }
    },
    {
      "cell_type": "markdown",
      "source": [
        "##**2. Network Architecture Design**"
      ],
      "metadata": {
        "id": "f01IvdpE9JMJ"
      }
    },
    {
      "cell_type": "code",
      "source": [
        "from tensorflow.keras.models import Sequential\n",
        "from tensorflow.keras.layers import Dense, Flatten\n",
        "\n",
        "# Create the feedforward neural network\n",
        "model = Sequential()\n",
        "\n",
        "# Input Layer + Hidden Layers\n",
        "model.add(Flatten(input_shape=(32, 32, 3)))  # Flatten input image of shape 32x32x3 to 1D array\n",
        "model.add(Dense(units=512, activation='relu'))  # Hidden layer 1 with 512 neurons\n",
        "model.add(Dense(units=256, activation='relu'))  # Hidden layer 2 with 256 neurons\n",
        "\n",
        "# Output Layer\n",
        "model.add(Dense(units=10, activation='softmax'))  # 10 output neurons for 10 classes with softmax\n",
        "\n",
        "# Print the model summary\n",
        "model.summary()\n"
      ],
      "metadata": {
        "colab": {
          "base_uri": "https://localhost:8080/",
          "height": 312
        },
        "id": "lYS0sbjR9O9K",
        "outputId": "c8bae76a-9961-44c1-865d-1308590adc89"
      },
      "execution_count": 2,
      "outputs": [
        {
          "output_type": "stream",
          "name": "stderr",
          "text": [
            "/usr/local/lib/python3.10/dist-packages/keras/src/layers/reshaping/flatten.py:37: UserWarning: Do not pass an `input_shape`/`input_dim` argument to a layer. When using Sequential models, prefer using an `Input(shape)` object as the first layer in the model instead.\n",
            "  super().__init__(**kwargs)\n"
          ]
        },
        {
          "output_type": "display_data",
          "data": {
            "text/plain": [
              "\u001b[1mModel: \"sequential\"\u001b[0m\n"
            ],
            "text/html": [
              "<pre style=\"white-space:pre;overflow-x:auto;line-height:normal;font-family:Menlo,'DejaVu Sans Mono',consolas,'Courier New',monospace\"><span style=\"font-weight: bold\">Model: \"sequential\"</span>\n",
              "</pre>\n"
            ]
          },
          "metadata": {}
        },
        {
          "output_type": "display_data",
          "data": {
            "text/plain": [
              "┏━━━━━━━━━━━━━━━━━━━━━━━━━━━━━━━━━━━━━━┳━━━━━━━━━━━━━━━━━━━━━━━━━━━━━┳━━━━━━━━━━━━━━━━━┓\n",
              "┃\u001b[1m \u001b[0m\u001b[1mLayer (type)                        \u001b[0m\u001b[1m \u001b[0m┃\u001b[1m \u001b[0m\u001b[1mOutput Shape               \u001b[0m\u001b[1m \u001b[0m┃\u001b[1m \u001b[0m\u001b[1m        Param #\u001b[0m\u001b[1m \u001b[0m┃\n",
              "┡━━━━━━━━━━━━━━━━━━━━━━━━━━━━━━━━━━━━━━╇━━━━━━━━━━━━━━━━━━━━━━━━━━━━━╇━━━━━━━━━━━━━━━━━┩\n",
              "│ flatten (\u001b[38;5;33mFlatten\u001b[0m)                    │ (\u001b[38;5;45mNone\u001b[0m, \u001b[38;5;34m3072\u001b[0m)                │               \u001b[38;5;34m0\u001b[0m │\n",
              "├──────────────────────────────────────┼─────────────────────────────┼─────────────────┤\n",
              "│ dense (\u001b[38;5;33mDense\u001b[0m)                        │ (\u001b[38;5;45mNone\u001b[0m, \u001b[38;5;34m512\u001b[0m)                 │       \u001b[38;5;34m1,573,376\u001b[0m │\n",
              "├──────────────────────────────────────┼─────────────────────────────┼─────────────────┤\n",
              "│ dense_1 (\u001b[38;5;33mDense\u001b[0m)                      │ (\u001b[38;5;45mNone\u001b[0m, \u001b[38;5;34m256\u001b[0m)                 │         \u001b[38;5;34m131,328\u001b[0m │\n",
              "├──────────────────────────────────────┼─────────────────────────────┼─────────────────┤\n",
              "│ dense_2 (\u001b[38;5;33mDense\u001b[0m)                      │ (\u001b[38;5;45mNone\u001b[0m, \u001b[38;5;34m10\u001b[0m)                  │           \u001b[38;5;34m2,570\u001b[0m │\n",
              "└──────────────────────────────────────┴─────────────────────────────┴─────────────────┘\n"
            ],
            "text/html": [
              "<pre style=\"white-space:pre;overflow-x:auto;line-height:normal;font-family:Menlo,'DejaVu Sans Mono',consolas,'Courier New',monospace\">┏━━━━━━━━━━━━━━━━━━━━━━━━━━━━━━━━━━━━━━┳━━━━━━━━━━━━━━━━━━━━━━━━━━━━━┳━━━━━━━━━━━━━━━━━┓\n",
              "┃<span style=\"font-weight: bold\"> Layer (type)                         </span>┃<span style=\"font-weight: bold\"> Output Shape                </span>┃<span style=\"font-weight: bold\">         Param # </span>┃\n",
              "┡━━━━━━━━━━━━━━━━━━━━━━━━━━━━━━━━━━━━━━╇━━━━━━━━━━━━━━━━━━━━━━━━━━━━━╇━━━━━━━━━━━━━━━━━┩\n",
              "│ flatten (<span style=\"color: #0087ff; text-decoration-color: #0087ff\">Flatten</span>)                    │ (<span style=\"color: #00d7ff; text-decoration-color: #00d7ff\">None</span>, <span style=\"color: #00af00; text-decoration-color: #00af00\">3072</span>)                │               <span style=\"color: #00af00; text-decoration-color: #00af00\">0</span> │\n",
              "├──────────────────────────────────────┼─────────────────────────────┼─────────────────┤\n",
              "│ dense (<span style=\"color: #0087ff; text-decoration-color: #0087ff\">Dense</span>)                        │ (<span style=\"color: #00d7ff; text-decoration-color: #00d7ff\">None</span>, <span style=\"color: #00af00; text-decoration-color: #00af00\">512</span>)                 │       <span style=\"color: #00af00; text-decoration-color: #00af00\">1,573,376</span> │\n",
              "├──────────────────────────────────────┼─────────────────────────────┼─────────────────┤\n",
              "│ dense_1 (<span style=\"color: #0087ff; text-decoration-color: #0087ff\">Dense</span>)                      │ (<span style=\"color: #00d7ff; text-decoration-color: #00d7ff\">None</span>, <span style=\"color: #00af00; text-decoration-color: #00af00\">256</span>)                 │         <span style=\"color: #00af00; text-decoration-color: #00af00\">131,328</span> │\n",
              "├──────────────────────────────────────┼─────────────────────────────┼─────────────────┤\n",
              "│ dense_2 (<span style=\"color: #0087ff; text-decoration-color: #0087ff\">Dense</span>)                      │ (<span style=\"color: #00d7ff; text-decoration-color: #00d7ff\">None</span>, <span style=\"color: #00af00; text-decoration-color: #00af00\">10</span>)                  │           <span style=\"color: #00af00; text-decoration-color: #00af00\">2,570</span> │\n",
              "└──────────────────────────────────────┴─────────────────────────────┴─────────────────┘\n",
              "</pre>\n"
            ]
          },
          "metadata": {}
        },
        {
          "output_type": "display_data",
          "data": {
            "text/plain": [
              "\u001b[1m Total params: \u001b[0m\u001b[38;5;34m1,707,274\u001b[0m (6.51 MB)\n"
            ],
            "text/html": [
              "<pre style=\"white-space:pre;overflow-x:auto;line-height:normal;font-family:Menlo,'DejaVu Sans Mono',consolas,'Courier New',monospace\"><span style=\"font-weight: bold\"> Total params: </span><span style=\"color: #00af00; text-decoration-color: #00af00\">1,707,274</span> (6.51 MB)\n",
              "</pre>\n"
            ]
          },
          "metadata": {}
        },
        {
          "output_type": "display_data",
          "data": {
            "text/plain": [
              "\u001b[1m Trainable params: \u001b[0m\u001b[38;5;34m1,707,274\u001b[0m (6.51 MB)\n"
            ],
            "text/html": [
              "<pre style=\"white-space:pre;overflow-x:auto;line-height:normal;font-family:Menlo,'DejaVu Sans Mono',consolas,'Courier New',monospace\"><span style=\"font-weight: bold\"> Trainable params: </span><span style=\"color: #00af00; text-decoration-color: #00af00\">1,707,274</span> (6.51 MB)\n",
              "</pre>\n"
            ]
          },
          "metadata": {}
        },
        {
          "output_type": "display_data",
          "data": {
            "text/plain": [
              "\u001b[1m Non-trainable params: \u001b[0m\u001b[38;5;34m0\u001b[0m (0.00 B)\n"
            ],
            "text/html": [
              "<pre style=\"white-space:pre;overflow-x:auto;line-height:normal;font-family:Menlo,'DejaVu Sans Mono',consolas,'Courier New',monospace\"><span style=\"font-weight: bold\"> Non-trainable params: </span><span style=\"color: #00af00; text-decoration-color: #00af00\">0</span> (0.00 B)\n",
              "</pre>\n"
            ]
          },
          "metadata": {}
        }
      ]
    },
    {
      "cell_type": "markdown",
      "source": [
        "**Question: Justify your choice of network architecture.**\n",
        "\n",
        "Answer:\n",
        "Input Layer: 32x32x3 dimensions match CIFAR-10 images.\n",
        "\n",
        "Hidden Layers: Two Dense layers (512 and 256 neurons) with ReLU for non-linearity and efficient training.\n",
        "\n",
        "Output Layer: 10 neurons with softmax for multi-class classification.\n",
        "\n",
        "Two hidden layers offer enough complexity without overfitting, and Dense layers map features to classes."
      ],
      "metadata": {
        "id": "iX1Yh7dvFm11"
      }
    },
    {
      "cell_type": "markdown",
      "source": [
        "##**3. Activation Functions**"
      ],
      "metadata": {
        "id": "-VOiNg9a-2yG"
      }
    },
    {
      "cell_type": "code",
      "source": [
        "# Model with Sigmoid activation function in the hidden layers\n",
        "model_sigmoid = Sequential()\n",
        "model_sigmoid.add(Flatten(input_shape=(32, 32, 3)))\n",
        "model_sigmoid.add(Dense(units=512, activation='sigmoid'))  # Sigmoid activation\n",
        "model_sigmoid.add(Dense(units=256, activation='sigmoid'))\n",
        "model_sigmoid.add(Dense(units=10, activation='softmax'))\n",
        "model_sigmoid.compile(optimizer='adam', loss='categorical_crossentropy', metrics=['accuracy'])\n",
        "\n",
        "# Model with ReLU (as earlier created)\n",
        "model.compile(optimizer='adam', loss='categorical_crossentropy', metrics=['accuracy'])\n"
      ],
      "metadata": {
        "id": "-UBCMEp4-7j5"
      },
      "execution_count": 3,
      "outputs": []
    },
    {
      "cell_type": "markdown",
      "source": [
        "**Question: Why choose particular activation functions?**\n",
        "\n",
        "Answer:\n",
        "ReLU: Efficient, avoids vanishing gradients, and accelerates learning.\n",
        "Sigmoid/Tanh (for comparison): Slower convergence, potential vanishing gradient but useful to compare.\n",
        "\n",
        "\n",
        "ReLU is preferred for faster, stable training."
      ],
      "metadata": {
        "id": "yqUhLjR1Fe5U"
      }
    },
    {
      "cell_type": "markdown",
      "source": [
        "##**4. Loss Function and Optimizer**"
      ],
      "metadata": {
        "id": "m40B-lANAZbp"
      }
    },
    {
      "cell_type": "code",
      "source": [
        "# Using Mean Squared Error (MSE) as an alternative loss function\n",
        "model.compile(optimizer='adam', loss='mean_squared_error', metrics=['accuracy'])\n",
        "\n",
        "# Using Adam optimizer with a reduced learning rate\n",
        "adam_optimizer = tf.keras.optimizers.Adam(learning_rate=0.001)\n",
        "\n",
        "model.compile(optimizer=adam_optimizer, loss='categorical_crossentropy', metrics=['accuracy'])\n"
      ],
      "metadata": {
        "id": "qV5Am2ziAddW"
      },
      "execution_count": 4,
      "outputs": []
    },
    {
      "cell_type": "markdown",
      "source": [
        "Categorical Crossentropy: This is the most suitable loss function for multi-class classification problems, especially when dealing with softmax outputs.\n",
        "\n",
        "Mean Squared Error: Typically used in regression but can be compared to crossentropy to see the effect.\n",
        "\n",
        "Optimizer (Adam): Adam combines the best properties of RMSProp and Stochastic Gradient Descent. We adjust the learning rate to ensure smooth convergence."
      ],
      "metadata": {
        "id": "mdAmvFsqAk-2"
      }
    },
    {
      "cell_type": "markdown",
      "source": [
        "**Question: How does the choice of optimizer and learning rate influence convergence?**\n",
        "\n",
        "Answer:\n",
        "Adam Optimizer: Adapts learning rates, leading to faster and more stable convergence.\n",
        "\n",
        "Learning Rate: Controls step size; high can cause overshooting, low can slow down training.\n",
        "\n",
        "Adjustment: If convergence is slow, reduce the learning rate; if oscillating, lower it further."
      ],
      "metadata": {
        "id": "PPy09Z-cFXcN"
      }
    },
    {
      "cell_type": "markdown",
      "source": [
        "##**5. Training the Model**"
      ],
      "metadata": {
        "id": "znji6Rs6AoUW"
      }
    },
    {
      "cell_type": "code",
      "source": [
        "# Train the model\n",
        "history = model.fit(X_train, y_train, epochs=50, batch_size=64, validation_data=(X_test, y_test))\n",
        "\n",
        "# Plot the training loss and validation accuracy\n",
        "import matplotlib.pyplot as plt\n",
        "\n",
        "plt.plot(history.history['loss'], label='Training Loss')\n",
        "plt.plot(history.history['val_loss'], label='Validation Loss')\n",
        "plt.title('Training and Validation Loss Over Epochs')\n",
        "plt.xlabel('Epochs')\n",
        "plt.ylabel('Loss')\n",
        "plt.legend()\n",
        "plt.show()\n"
      ],
      "metadata": {
        "colab": {
          "base_uri": "https://localhost:8080/",
          "height": 1000
        },
        "id": "lhN61F9hAtrU",
        "outputId": "ee59cb2f-f641-470d-bc5f-93d38969ac54"
      },
      "execution_count": 5,
      "outputs": [
        {
          "output_type": "stream",
          "name": "stdout",
          "text": [
            "Epoch 1/50\n",
            "\u001b[1m782/782\u001b[0m \u001b[32m━━━━━━━━━━━━━━━━━━━━\u001b[0m\u001b[37m\u001b[0m \u001b[1m29s\u001b[0m 33ms/step - accuracy: 0.2732 - loss: 2.0538 - val_accuracy: 0.3636 - val_loss: 1.7625\n",
            "Epoch 2/50\n",
            "\u001b[1m782/782\u001b[0m \u001b[32m━━━━━━━━━━━━━━━━━━━━\u001b[0m\u001b[37m\u001b[0m \u001b[1m40s\u001b[0m 32ms/step - accuracy: 0.3921 - loss: 1.6943 - val_accuracy: 0.4238 - val_loss: 1.6070\n",
            "Epoch 3/50\n",
            "\u001b[1m782/782\u001b[0m \u001b[32m━━━━━━━━━━━━━━━━━━━━\u001b[0m\u001b[37m\u001b[0m \u001b[1m37s\u001b[0m 28ms/step - accuracy: 0.4323 - loss: 1.5914 - val_accuracy: 0.4532 - val_loss: 1.5328\n",
            "Epoch 4/50\n",
            "\u001b[1m782/782\u001b[0m \u001b[32m━━━━━━━━━━━━━━━━━━━━\u001b[0m\u001b[37m\u001b[0m \u001b[1m39s\u001b[0m 25ms/step - accuracy: 0.4524 - loss: 1.5320 - val_accuracy: 0.4427 - val_loss: 1.5661\n",
            "Epoch 5/50\n",
            "\u001b[1m782/782\u001b[0m \u001b[32m━━━━━━━━━━━━━━━━━━━━\u001b[0m\u001b[37m\u001b[0m \u001b[1m21s\u001b[0m 26ms/step - accuracy: 0.4661 - loss: 1.4992 - val_accuracy: 0.4632 - val_loss: 1.4997\n",
            "Epoch 6/50\n",
            "\u001b[1m782/782\u001b[0m \u001b[32m━━━━━━━━━━━━━━━━━━━━\u001b[0m\u001b[37m\u001b[0m \u001b[1m40s\u001b[0m 26ms/step - accuracy: 0.4774 - loss: 1.4689 - val_accuracy: 0.4545 - val_loss: 1.5177\n",
            "Epoch 7/50\n",
            "\u001b[1m782/782\u001b[0m \u001b[32m━━━━━━━━━━━━━━━━━━━━\u001b[0m\u001b[37m\u001b[0m \u001b[1m19s\u001b[0m 24ms/step - accuracy: 0.4912 - loss: 1.4260 - val_accuracy: 0.4622 - val_loss: 1.5067\n",
            "Epoch 8/50\n",
            "\u001b[1m782/782\u001b[0m \u001b[32m━━━━━━━━━━━━━━━━━━━━\u001b[0m\u001b[37m\u001b[0m \u001b[1m22s\u001b[0m 26ms/step - accuracy: 0.4997 - loss: 1.4007 - val_accuracy: 0.4755 - val_loss: 1.4632\n",
            "Epoch 9/50\n",
            "\u001b[1m782/782\u001b[0m \u001b[32m━━━━━━━━━━━━━━━━━━━━\u001b[0m\u001b[37m\u001b[0m \u001b[1m20s\u001b[0m 25ms/step - accuracy: 0.5119 - loss: 1.3743 - val_accuracy: 0.4464 - val_loss: 1.5341\n",
            "Epoch 10/50\n",
            "\u001b[1m782/782\u001b[0m \u001b[32m━━━━━━━━━━━━━━━━━━━━\u001b[0m\u001b[37m\u001b[0m \u001b[1m21s\u001b[0m 26ms/step - accuracy: 0.5207 - loss: 1.3497 - val_accuracy: 0.4931 - val_loss: 1.4263\n",
            "Epoch 11/50\n",
            "\u001b[1m782/782\u001b[0m \u001b[32m━━━━━━━━━━━━━━━━━━━━\u001b[0m\u001b[37m\u001b[0m \u001b[1m19s\u001b[0m 24ms/step - accuracy: 0.5277 - loss: 1.3254 - val_accuracy: 0.4929 - val_loss: 1.4350\n",
            "Epoch 12/50\n",
            "\u001b[1m782/782\u001b[0m \u001b[32m━━━━━━━━━━━━━━━━━━━━\u001b[0m\u001b[37m\u001b[0m \u001b[1m20s\u001b[0m 26ms/step - accuracy: 0.5323 - loss: 1.3091 - val_accuracy: 0.4931 - val_loss: 1.4248\n",
            "Epoch 13/50\n",
            "\u001b[1m782/782\u001b[0m \u001b[32m━━━━━━━━━━━━━━━━━━━━\u001b[0m\u001b[37m\u001b[0m \u001b[1m19s\u001b[0m 25ms/step - accuracy: 0.5354 - loss: 1.2959 - val_accuracy: 0.4888 - val_loss: 1.4224\n",
            "Epoch 14/50\n",
            "\u001b[1m782/782\u001b[0m \u001b[32m━━━━━━━━━━━━━━━━━━━━\u001b[0m\u001b[37m\u001b[0m \u001b[1m21s\u001b[0m 26ms/step - accuracy: 0.5460 - loss: 1.2668 - val_accuracy: 0.4949 - val_loss: 1.4266\n",
            "Epoch 15/50\n",
            "\u001b[1m782/782\u001b[0m \u001b[32m━━━━━━━━━━━━━━━━━━━━\u001b[0m\u001b[37m\u001b[0m \u001b[1m19s\u001b[0m 24ms/step - accuracy: 0.5537 - loss: 1.2517 - val_accuracy: 0.5074 - val_loss: 1.3965\n",
            "Epoch 16/50\n",
            "\u001b[1m782/782\u001b[0m \u001b[32m━━━━━━━━━━━━━━━━━━━━\u001b[0m\u001b[37m\u001b[0m \u001b[1m21s\u001b[0m 26ms/step - accuracy: 0.5606 - loss: 1.2366 - val_accuracy: 0.4962 - val_loss: 1.4254\n",
            "Epoch 17/50\n",
            "\u001b[1m782/782\u001b[0m \u001b[32m━━━━━━━━━━━━━━━━━━━━\u001b[0m\u001b[37m\u001b[0m \u001b[1m41s\u001b[0m 26ms/step - accuracy: 0.5635 - loss: 1.2256 - val_accuracy: 0.5105 - val_loss: 1.3914\n",
            "Epoch 18/50\n",
            "\u001b[1m782/782\u001b[0m \u001b[32m━━━━━━━━━━━━━━━━━━━━\u001b[0m\u001b[37m\u001b[0m \u001b[1m19s\u001b[0m 25ms/step - accuracy: 0.5705 - loss: 1.2118 - val_accuracy: 0.5043 - val_loss: 1.4163\n",
            "Epoch 19/50\n",
            "\u001b[1m782/782\u001b[0m \u001b[32m━━━━━━━━━━━━━━━━━━━━\u001b[0m\u001b[37m\u001b[0m \u001b[1m21s\u001b[0m 26ms/step - accuracy: 0.5701 - loss: 1.1962 - val_accuracy: 0.4935 - val_loss: 1.4421\n",
            "Epoch 20/50\n",
            "\u001b[1m782/782\u001b[0m \u001b[32m━━━━━━━━━━━━━━━━━━━━\u001b[0m\u001b[37m\u001b[0m \u001b[1m19s\u001b[0m 25ms/step - accuracy: 0.5714 - loss: 1.2011 - val_accuracy: 0.5153 - val_loss: 1.3906\n",
            "Epoch 21/50\n",
            "\u001b[1m782/782\u001b[0m \u001b[32m━━━━━━━━━━━━━━━━━━━━\u001b[0m\u001b[37m\u001b[0m \u001b[1m21s\u001b[0m 26ms/step - accuracy: 0.5832 - loss: 1.1684 - val_accuracy: 0.4962 - val_loss: 1.4514\n",
            "Epoch 22/50\n",
            "\u001b[1m782/782\u001b[0m \u001b[32m━━━━━━━━━━━━━━━━━━━━\u001b[0m\u001b[37m\u001b[0m \u001b[1m20s\u001b[0m 25ms/step - accuracy: 0.5817 - loss: 1.1718 - val_accuracy: 0.5127 - val_loss: 1.3970\n",
            "Epoch 23/50\n",
            "\u001b[1m782/782\u001b[0m \u001b[32m━━━━━━━━━━━━━━━━━━━━\u001b[0m\u001b[37m\u001b[0m \u001b[1m20s\u001b[0m 25ms/step - accuracy: 0.5952 - loss: 1.1400 - val_accuracy: 0.5087 - val_loss: 1.4142\n",
            "Epoch 24/50\n",
            "\u001b[1m782/782\u001b[0m \u001b[32m━━━━━━━━━━━━━━━━━━━━\u001b[0m\u001b[37m\u001b[0m \u001b[1m20s\u001b[0m 25ms/step - accuracy: 0.5987 - loss: 1.1277 - val_accuracy: 0.4980 - val_loss: 1.4589\n",
            "Epoch 25/50\n",
            "\u001b[1m782/782\u001b[0m \u001b[32m━━━━━━━━━━━━━━━━━━━━\u001b[0m\u001b[37m\u001b[0m \u001b[1m20s\u001b[0m 25ms/step - accuracy: 0.5980 - loss: 1.1199 - val_accuracy: 0.4983 - val_loss: 1.4567\n",
            "Epoch 26/50\n",
            "\u001b[1m782/782\u001b[0m \u001b[32m━━━━━━━━━━━━━━━━━━━━\u001b[0m\u001b[37m\u001b[0m \u001b[1m20s\u001b[0m 25ms/step - accuracy: 0.5969 - loss: 1.1185 - val_accuracy: 0.5059 - val_loss: 1.4250\n",
            "Epoch 27/50\n",
            "\u001b[1m782/782\u001b[0m \u001b[32m━━━━━━━━━━━━━━━━━━━━\u001b[0m\u001b[37m\u001b[0m \u001b[1m20s\u001b[0m 26ms/step - accuracy: 0.6095 - loss: 1.0954 - val_accuracy: 0.5077 - val_loss: 1.4534\n",
            "Epoch 28/50\n",
            "\u001b[1m782/782\u001b[0m \u001b[32m━━━━━━━━━━━━━━━━━━━━\u001b[0m\u001b[37m\u001b[0m \u001b[1m19s\u001b[0m 24ms/step - accuracy: 0.6081 - loss: 1.0962 - val_accuracy: 0.5090 - val_loss: 1.4466\n",
            "Epoch 29/50\n",
            "\u001b[1m782/782\u001b[0m \u001b[32m━━━━━━━━━━━━━━━━━━━━\u001b[0m\u001b[37m\u001b[0m \u001b[1m20s\u001b[0m 26ms/step - accuracy: 0.6101 - loss: 1.0850 - val_accuracy: 0.5097 - val_loss: 1.4559\n",
            "Epoch 30/50\n",
            "\u001b[1m782/782\u001b[0m \u001b[32m━━━━━━━━━━━━━━━━━━━━\u001b[0m\u001b[37m\u001b[0m \u001b[1m19s\u001b[0m 24ms/step - accuracy: 0.6190 - loss: 1.0728 - val_accuracy: 0.5010 - val_loss: 1.4885\n",
            "Epoch 31/50\n",
            "\u001b[1m782/782\u001b[0m \u001b[32m━━━━━━━━━━━━━━━━━━━━\u001b[0m\u001b[37m\u001b[0m \u001b[1m21s\u001b[0m 26ms/step - accuracy: 0.6214 - loss: 1.0599 - val_accuracy: 0.5018 - val_loss: 1.4752\n",
            "Epoch 32/50\n",
            "\u001b[1m782/782\u001b[0m \u001b[32m━━━━━━━━━━━━━━━━━━━━\u001b[0m\u001b[37m\u001b[0m \u001b[1m27s\u001b[0m 35ms/step - accuracy: 0.6198 - loss: 1.0679 - val_accuracy: 0.5118 - val_loss: 1.4583\n",
            "Epoch 33/50\n",
            "\u001b[1m782/782\u001b[0m \u001b[32m━━━━━━━━━━━━━━━━━━━━\u001b[0m\u001b[37m\u001b[0m \u001b[1m36s\u001b[0m 29ms/step - accuracy: 0.6239 - loss: 1.0495 - val_accuracy: 0.5044 - val_loss: 1.4999\n",
            "Epoch 34/50\n",
            "\u001b[1m782/782\u001b[0m \u001b[32m━━━━━━━━━━━━━━━━━━━━\u001b[0m\u001b[37m\u001b[0m \u001b[1m39s\u001b[0m 26ms/step - accuracy: 0.6238 - loss: 1.0521 - val_accuracy: 0.4960 - val_loss: 1.5141\n",
            "Epoch 35/50\n",
            "\u001b[1m782/782\u001b[0m \u001b[32m━━━━━━━━━━━━━━━━━━━━\u001b[0m\u001b[37m\u001b[0m \u001b[1m20s\u001b[0m 25ms/step - accuracy: 0.6270 - loss: 1.0387 - val_accuracy: 0.5064 - val_loss: 1.4868\n",
            "Epoch 36/50\n",
            "\u001b[1m782/782\u001b[0m \u001b[32m━━━━━━━━━━━━━━━━━━━━\u001b[0m\u001b[37m\u001b[0m \u001b[1m21s\u001b[0m 26ms/step - accuracy: 0.6287 - loss: 1.0386 - val_accuracy: 0.5006 - val_loss: 1.4966\n",
            "Epoch 37/50\n",
            "\u001b[1m782/782\u001b[0m \u001b[32m━━━━━━━━━━━━━━━━━━━━\u001b[0m\u001b[37m\u001b[0m \u001b[1m19s\u001b[0m 25ms/step - accuracy: 0.6277 - loss: 1.0268 - val_accuracy: 0.5131 - val_loss: 1.4994\n",
            "Epoch 38/50\n",
            "\u001b[1m782/782\u001b[0m \u001b[32m━━━━━━━━━━━━━━━━━━━━\u001b[0m\u001b[37m\u001b[0m \u001b[1m20s\u001b[0m 25ms/step - accuracy: 0.6392 - loss: 1.0143 - val_accuracy: 0.4975 - val_loss: 1.5441\n",
            "Epoch 39/50\n",
            "\u001b[1m782/782\u001b[0m \u001b[32m━━━━━━━━━━━━━━━━━━━━\u001b[0m\u001b[37m\u001b[0m \u001b[1m20s\u001b[0m 25ms/step - accuracy: 0.6342 - loss: 1.0108 - val_accuracy: 0.5073 - val_loss: 1.5056\n",
            "Epoch 40/50\n",
            "\u001b[1m782/782\u001b[0m \u001b[32m━━━━━━━━━━━━━━━━━━━━\u001b[0m\u001b[37m\u001b[0m \u001b[1m21s\u001b[0m 26ms/step - accuracy: 0.6435 - loss: 0.9927 - val_accuracy: 0.5043 - val_loss: 1.5041\n",
            "Epoch 41/50\n",
            "\u001b[1m782/782\u001b[0m \u001b[32m━━━━━━━━━━━━━━━━━━━━\u001b[0m\u001b[37m\u001b[0m \u001b[1m41s\u001b[0m 26ms/step - accuracy: 0.6457 - loss: 0.9845 - val_accuracy: 0.4974 - val_loss: 1.5530\n",
            "Epoch 42/50\n",
            "\u001b[1m782/782\u001b[0m \u001b[32m━━━━━━━━━━━━━━━━━━━━\u001b[0m\u001b[37m\u001b[0m \u001b[1m19s\u001b[0m 25ms/step - accuracy: 0.6434 - loss: 0.9935 - val_accuracy: 0.5108 - val_loss: 1.5139\n",
            "Epoch 43/50\n",
            "\u001b[1m782/782\u001b[0m \u001b[32m━━━━━━━━━━━━━━━━━━━━\u001b[0m\u001b[37m\u001b[0m \u001b[1m20s\u001b[0m 26ms/step - accuracy: 0.6484 - loss: 0.9799 - val_accuracy: 0.4999 - val_loss: 1.5689\n",
            "Epoch 44/50\n",
            "\u001b[1m782/782\u001b[0m \u001b[32m━━━━━━━━━━━━━━━━━━━━\u001b[0m\u001b[37m\u001b[0m \u001b[1m20s\u001b[0m 25ms/step - accuracy: 0.6527 - loss: 0.9623 - val_accuracy: 0.4968 - val_loss: 1.6198\n",
            "Epoch 45/50\n",
            "\u001b[1m782/782\u001b[0m \u001b[32m━━━━━━━━━━━━━━━━━━━━\u001b[0m\u001b[37m\u001b[0m \u001b[1m21s\u001b[0m 26ms/step - accuracy: 0.6494 - loss: 0.9729 - val_accuracy: 0.5106 - val_loss: 1.5419\n",
            "Epoch 46/50\n",
            "\u001b[1m782/782\u001b[0m \u001b[32m━━━━━━━━━━━━━━━━━━━━\u001b[0m\u001b[37m\u001b[0m \u001b[1m26s\u001b[0m 33ms/step - accuracy: 0.6582 - loss: 0.9601 - val_accuracy: 0.5137 - val_loss: 1.5187\n",
            "Epoch 47/50\n",
            "\u001b[1m782/782\u001b[0m \u001b[32m━━━━━━━━━━━━━━━━━━━━\u001b[0m\u001b[37m\u001b[0m \u001b[1m41s\u001b[0m 33ms/step - accuracy: 0.6605 - loss: 0.9512 - val_accuracy: 0.4988 - val_loss: 1.5851\n",
            "Epoch 48/50\n",
            "\u001b[1m782/782\u001b[0m \u001b[32m━━━━━━━━━━━━━━━━━━━━\u001b[0m\u001b[37m\u001b[0m \u001b[1m41s\u001b[0m 33ms/step - accuracy: 0.6581 - loss: 0.9526 - val_accuracy: 0.4961 - val_loss: 1.6216\n",
            "Epoch 49/50\n",
            "\u001b[1m782/782\u001b[0m \u001b[32m━━━━━━━━━━━━━━━━━━━━\u001b[0m\u001b[37m\u001b[0m \u001b[1m25s\u001b[0m 32ms/step - accuracy: 0.6597 - loss: 0.9475 - val_accuracy: 0.5065 - val_loss: 1.5940\n",
            "Epoch 50/50\n",
            "\u001b[1m782/782\u001b[0m \u001b[32m━━━━━━━━━━━━━━━━━━━━\u001b[0m\u001b[37m\u001b[0m \u001b[1m36s\u001b[0m 26ms/step - accuracy: 0.6622 - loss: 0.9386 - val_accuracy: 0.5022 - val_loss: 1.5895\n"
          ]
        },
        {
          "output_type": "display_data",
          "data": {
            "text/plain": [
              "<Figure size 640x480 with 1 Axes>"
            ],
            "image/png": "[encoded data removed]"
          },
          "metadata": {}
        }
      ]
    },
    {
      "cell_type": "markdown",
      "source": [
        "**Question: How does backpropagation update the weights, and what role does the learning rate play?**\n",
        "\n",
        "Answer:\n",
        "Backpropagation adjusts weights by calculating gradients and using the formula:\n",
        "W_new = W_old - learning_rate * gradient.\n",
        "\n",
        "The learning rate determines the size of these updates, affecting the speed and stability of training.\n",
        "\n",
        "Training the model: The model is trained for 50 epochs with a batch size of 64. Validation accuracy and loss are monitored to detect overfitting.\n",
        "\n",
        "Backpropagation: During each iteration, backpropagation updates the weights using gradient descent to minimize the loss function. The learning rate controls how large the steps are during this update.\n",
        "\n",
        "\n",
        "\n"
      ],
      "metadata": {
        "id": "Z5Y4w1dDAygN"
      }
    },
    {
      "cell_type": "markdown",
      "source": [
        "##**6. Model Evaluation**"
      ],
      "metadata": {
        "id": "1MGFPi_iA0Mx"
      }
    },
    {
      "cell_type": "code",
      "source": [
        "# Evaluate the model on the test set\n",
        "test_loss, test_acc = model.evaluate(X_test, y_test)\n",
        "\n",
        "# Predictions and metrics\n",
        "from sklearn.metrics import classification_report, confusion_matrix\n",
        "\n",
        "y_pred = model.predict(X_test)\n",
        "y_pred_classes = np.argmax(y_pred, axis=1)\n",
        "y_true = np.argmax(y_test, axis=1)\n",
        "\n",
        "# Classification report\n",
        "print(classification_report(y_true, y_pred_classes))\n",
        "\n",
        "# Confusion matrix\n",
        "conf_matrix = confusion_matrix(y_true, y_pred_classes)\n",
        "print('Confusion Matrix:\\n', conf_matrix)\n"
      ],
      "metadata": {
        "colab": {
          "base_uri": "https://localhost:8080/"
        },
        "id": "IpkFT9ipA4MF",
        "outputId": "3e26398c-d586-4d38-ef2c-47eb5959863b"
      },
      "execution_count": 7,
      "outputs": [
        {
          "output_type": "stream",
          "name": "stdout",
          "text": [
            "\u001b[1m313/313\u001b[0m \u001b[32m━━━━━━━━━━━━━━━━━━━━\u001b[0m\u001b[37m\u001b[0m \u001b[1m1s\u001b[0m 4ms/step - accuracy: 0.5051 - loss: 1.5952\n",
            "\u001b[1m313/313\u001b[0m \u001b[32m━━━━━━━━━━━━━━━━━━━━\u001b[0m\u001b[37m\u001b[0m \u001b[1m1s\u001b[0m 4ms/step\n",
            "              precision    recall  f1-score   support\n",
            "\n",
            "           0       0.60      0.56      0.58      1000\n",
            "           1       0.62      0.62      0.62      1000\n",
            "           2       0.38      0.39      0.38      1000\n",
            "           3       0.38      0.27      0.31      1000\n",
            "           4       0.38      0.55      0.45      1000\n",
            "           5       0.46      0.34      0.39      1000\n",
            "           6       0.51      0.59      0.55      1000\n",
            "           7       0.61      0.49      0.55      1000\n",
            "           8       0.55      0.72      0.63      1000\n",
            "           9       0.57      0.50      0.53      1000\n",
            "\n",
            "    accuracy                           0.50     10000\n",
            "   macro avg       0.51      0.50      0.50     10000\n",
            "weighted avg       0.51      0.50      0.50     10000\n",
            "\n",
            "Confusion Matrix:\n",
            " [[559  30  72  11  60  11  21  15 183  38]\n",
            " [ 40 622  27  11  20  14  16  16 108 126]\n",
            " [ 62  22 387  58 225  49 101  48  24  24]\n",
            " [ 31  26 107 266 121 171 149  49  32  48]\n",
            " [ 35  14 128  39 551  30 104  52  36  11]\n",
            " [ 20  17 115 157 122 336  89  71  42  31]\n",
            " [ 14  15  86  50 168  32 587  16  17  15]\n",
            " [ 48  14  63  54 150  56  48 495  26  46]\n",
            " [ 75  54  14  31  32  10  14   9 722  39]\n",
            " [ 55 186  25  23  18  17  19  43 117 497]]\n"
          ]
        }
      ]
    },
    {
      "cell_type": "markdown",
      "source": [
        "**Question: How can you improve model performance if accuracy is low?**\n",
        "\n",
        "Answer:\n",
        "Increase model complexity (more layers/neurons).\n",
        "\n",
        "Apply data augmentation or regularization (dropout, L2).\n",
        "\n",
        "\n",
        "Tune optimizer, learning rate, or train for more epochs."
      ],
      "metadata": {
        "id": "xuhFNUPNA9O2"
      }
    },
    {
      "cell_type": "markdown",
      "source": [
        "##**7. Optimization Strategies**"
      ],
      "metadata": {
        "id": "1BTJk6jKBB2t"
      }
    },
    {
      "cell_type": "code",
      "source": [
        "# Implementing Early Stopping\n",
        "from tensorflow.keras.callbacks import EarlyStopping\n",
        "\n",
        "early_stopping = EarlyStopping(monitor='val_loss', patience=5, restore_best_weights=True)\n",
        "\n",
        "# Train the model with early stopping\n",
        "history = model.fit(X_train, y_train, epochs=50, batch_size=64, validation_data=(X_test, y_test),\n",
        "                    callbacks=[early_stopping])\n"
      ],
      "metadata": {
        "colab": {
          "base_uri": "https://localhost:8080/"
        },
        "id": "GLMJClSYBFiJ",
        "outputId": "a944d443-4784-4e3d-ba52-b588130ba2af"
      },
      "execution_count": 8,
      "outputs": [
        {
          "output_type": "stream",
          "name": "stdout",
          "text": [
            "Epoch 1/50\n",
            "\u001b[1m782/782\u001b[0m \u001b[32m━━━━━━━━━━━━━━━━━━━━\u001b[0m\u001b[37m\u001b[0m \u001b[1m19s\u001b[0m 25ms/step - accuracy: 0.6693 - loss: 0.9202 - val_accuracy: 0.5007 - val_loss: 1.6083\n",
            "Epoch 2/50\n",
            "\u001b[1m782/782\u001b[0m \u001b[32m━━━━━━━━━━━━━━━━━━━━\u001b[0m\u001b[37m\u001b[0m \u001b[1m23s\u001b[0m 28ms/step - accuracy: 0.6713 - loss: 0.9194 - val_accuracy: 0.5162 - val_loss: 1.5983\n",
            "Epoch 3/50\n",
            "\u001b[1m782/782\u001b[0m \u001b[32m━━━━━━━━━━━━━━━━━━━━\u001b[0m\u001b[37m\u001b[0m \u001b[1m41s\u001b[0m 27ms/step - accuracy: 0.6741 - loss: 0.9021 - val_accuracy: 0.4982 - val_loss: 1.6660\n",
            "Epoch 4/50\n",
            "\u001b[1m782/782\u001b[0m \u001b[32m━━━━━━━━━━━━━━━━━━━━\u001b[0m\u001b[37m\u001b[0m \u001b[1m20s\u001b[0m 25ms/step - accuracy: 0.6693 - loss: 0.9141 - val_accuracy: 0.4983 - val_loss: 1.6373\n",
            "Epoch 5/50\n",
            "\u001b[1m782/782\u001b[0m \u001b[32m━━━━━━━━━━━━━━━━━━━━\u001b[0m\u001b[37m\u001b[0m \u001b[1m21s\u001b[0m 26ms/step - accuracy: 0.6720 - loss: 0.9037 - val_accuracy: 0.5166 - val_loss: 1.5881\n",
            "Epoch 6/50\n",
            "\u001b[1m782/782\u001b[0m \u001b[32m━━━━━━━━━━━━━━━━━━━━\u001b[0m\u001b[37m\u001b[0m \u001b[1m40s\u001b[0m 26ms/step - accuracy: 0.6746 - loss: 0.9051 - val_accuracy: 0.4958 - val_loss: 1.6844\n",
            "Epoch 7/50\n",
            "\u001b[1m782/782\u001b[0m \u001b[32m━━━━━━━━━━━━━━━━━━━━\u001b[0m\u001b[37m\u001b[0m \u001b[1m20s\u001b[0m 25ms/step - accuracy: 0.6824 - loss: 0.8905 - val_accuracy: 0.5032 - val_loss: 1.6324\n",
            "Epoch 8/50\n",
            "\u001b[1m782/782\u001b[0m \u001b[32m━━━━━━━━━━━━━━━━━━━━\u001b[0m\u001b[37m\u001b[0m \u001b[1m21s\u001b[0m 26ms/step - accuracy: 0.6801 - loss: 0.8939 - val_accuracy: 0.5013 - val_loss: 1.7093\n",
            "Epoch 9/50\n",
            "\u001b[1m782/782\u001b[0m \u001b[32m━━━━━━━━━━━━━━━━━━━━\u001b[0m\u001b[37m\u001b[0m \u001b[1m19s\u001b[0m 25ms/step - accuracy: 0.6789 - loss: 0.8921 - val_accuracy: 0.5079 - val_loss: 1.6609\n",
            "Epoch 10/50\n",
            "\u001b[1m782/782\u001b[0m \u001b[32m━━━━━━━━━━━━━━━━━━━━\u001b[0m\u001b[37m\u001b[0m \u001b[1m21s\u001b[0m 26ms/step - accuracy: 0.6920 - loss: 0.8588 - val_accuracy: 0.5007 - val_loss: 1.7065\n"
          ]
        }
      ]
    },
    {
      "cell_type": "markdown",
      "source": [
        "**Question: Why is weight initialization important?**\n",
        "\n",
        "Answer:\n",
        "Proper weight initialization (e.g., He, Xavier) prevents vanishing/exploding gradients and helps efficient learning. Bad initialization leads to slow or unstable convergence."
      ],
      "metadata": {
        "id": "FaYMG2bvDjtc"
      }
    }
  ]
}